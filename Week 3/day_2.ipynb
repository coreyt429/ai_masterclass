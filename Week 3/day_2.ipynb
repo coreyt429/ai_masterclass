{
 "cells": [
  {
   "cell_type": "code",
   "execution_count": 1,
   "metadata": {},
   "outputs": [],
   "source": [
    "import numpy as np"
   ]
  },
  {
   "cell_type": "code",
   "execution_count": 4,
   "metadata": {},
   "outputs": [
    {
     "name": "stdout",
     "output_type": "stream",
     "text": [
      "determinant:\n",
      " 5.000000000000001\n",
      "inverse:\n",
      " [[ 0.8 -0.6]\n",
      " [-0.2  0.4]]\n",
      "my_i:\n",
      " [[1. 0.]\n",
      " [0. 1.]]\n"
     ]
    }
   ],
   "source": [
    "A = np.array([[2, 3], [1, 4]])\n",
    "determinant = np.linalg.det(A)\n",
    "print(\"determinant:\\n\", determinant)\n",
    "\n",
    "inverse = np.linalg.inv(A)\n",
    "print(\"inverse:\\n\", inverse)\n",
    "\n",
    "my_i = np.dot(A, inverse)\n",
    "print(\"my_i:\\n\", my_i)"
   ]
  },
  {
   "cell_type": "code",
   "execution_count": 6,
   "metadata": {},
   "outputs": [
    {
     "name": "stdout",
     "output_type": "stream",
     "text": [
      "eigenvalues:\n",
      " [1. 5.]\n",
      "eigenvectors:\n",
      " [[-0.9486833  -0.70710678]\n",
      " [ 0.31622777 -0.70710678]]\n",
      "eigenvalues:\n",
      " [4.56155281 0.43844719]\n",
      "eigenvectors:\n",
      " [[ 0.96276969 -0.48963374]\n",
      " [ 0.27032301  0.87192821]]\n"
     ]
    }
   ],
   "source": [
    "# Eigenvalues and Eigenvectors\n",
    "\n",
    "eigenvalues, eigenvectors = np.linalg.eig(A)\n",
    "print(\"eigenvalues:\\n\", eigenvalues)\n",
    "print(\"eigenvectors:\\n\", eigenvectors)\n",
    "\n",
    "B = np.array([[4, 2], [1, 1]])\n",
    "eigenvalues, eigenvectors = np.linalg.eig(B)\n",
    "print(\"eigenvalues:\\n\", eigenvalues)\n",
    "print(\"eigenvectors:\\n\", eigenvectors)\n",
    "\n"
   ]
  },
  {
   "cell_type": "code",
   "execution_count": 7,
   "metadata": {},
   "outputs": [
    {
     "name": "stdout",
     "output_type": "stream",
     "text": [
      "U:\n",
      " [[-0.65520174 -0.75545395]\n",
      " [-0.75545395  0.65520174]]\n",
      "S:\n",
      " [5.39834564 0.92620968]\n",
      "vt:\n",
      " [[-0.38268343 -0.92387953]\n",
      " [-0.92387953  0.38268343]]\n"
     ]
    }
   ],
   "source": [
    "# Matrix Decomposition\n",
    "# Singular Value Decomposition\n",
    "# A = U * S * V\n",
    "# U and V are orthogonal matrices\n",
    "# S is a diagonal matrix\n",
    "# The singular values are the diagonal values of S\n",
    "U, S, vt = np.linalg.svd(A)\n",
    "print(\"U:\\n\", U)\n",
    "print(\"S:\\n\", S)\n",
    "print(\"vt:\\n\", vt)\n"
   ]
  },
  {
   "cell_type": "code",
   "execution_count": 10,
   "metadata": {},
   "outputs": [
    {
     "name": "stdout",
     "output_type": "stream",
     "text": [
      "determinant:\n",
      " -7.61295788314396e-16\n",
      "inverse:\n",
      " [[ 3.94064967e+15 -6.56774946e+15  2.62709978e+15]\n",
      " [-7.88129935e+15  1.31354989e+16 -5.25419957e+15]\n",
      " [ 3.94064967e+15 -6.56774946e+15  2.62709978e+15]]\n"
     ]
    }
   ],
   "source": [
    "# Excercise 1: Calculate the determinant of the following matrix\n",
    "C = np.array([[2, 3, 4], [4, 5, 6], [7, 8, 9]])\n",
    "determinant = np.linalg.det(C)\n",
    "print(\"determinant:\\n\", determinant)\n",
    "\n",
    "# Excercise 1b: Calculate the inverse of the following matrix\n",
    "D = np.array([[2, 3, 4], [4, 5, 6], [7, 8, 9]])\n",
    "inverse = np.linalg.inv(D)\n",
    "print(\"inverse:\\n\", inverse)\n"
   ]
  },
  {
   "cell_type": "code",
   "execution_count": 11,
   "metadata": {},
   "outputs": [
    {
     "name": "stdout",
     "output_type": "stream",
     "text": [
      "eigenvalues:\n",
      " [3. 2.]\n",
      "eigenvectors:\n",
      " [[0.89442719 0.70710678]\n",
      " [0.4472136  0.70710678]]\n"
     ]
    }
   ],
   "source": [
    "# Excercise 2: Calculate the eigenvalues and eigenvectors of the following matrix\n",
    "E = np.array([[4, -2], [1, 1]])\n",
    "eigenvalues, eigenvectors = np.linalg.eig(E)\n",
    "print(\"eigenvalues:\\n\", eigenvalues)\n",
    "print(\"eigenvectors:\\n\", eigenvectors)\n",
    "\n"
   ]
  },
  {
   "cell_type": "code",
   "execution_count": 15,
   "metadata": {},
   "outputs": [
    {
     "name": "stdout",
     "output_type": "stream",
     "text": [
      "U:\n",
      " [[-0.57735027  0.57735027 -0.57735027]\n",
      " [-0.4412247  -0.81558342 -0.37435872]\n",
      " [-0.68701342  0.03860509  0.7256185 ]]\n",
      "S:\n",
      " [4.48261292 3.17102979 1.68841687]\n",
      "vt:\n",
      " [[-0.4412247  -0.57735027 -0.68701342]\n",
      " [ 0.81558342 -0.57735027 -0.03860509]\n",
      " [-0.37435872 -0.57735027  0.7256185 ]]\n",
      "reconstructed:\n",
      " [[ 3.  1.  1.]\n",
      " [-1.  3.  1.]\n",
      " [ 1.  1.  3.]]\n",
      "reconstructed:\n",
      " [[ 3.  1.  1.]\n",
      " [-1.  3.  1.]\n",
      " [ 1.  1.  3.]]\n"
     ]
    }
   ],
   "source": [
    "# Excersice 3: Calculate the singular value decomposition of the following matrix\n",
    "F = np.array([[3, 1, 1], [-1, 3, 1], [1, 1, 3]])\n",
    "U, S, vt = np.linalg.svd(F)\n",
    "print(\"U:\\n\", U)\n",
    "print(\"S:\\n\", S)\n",
    "print(\"vt:\\n\", vt)\n",
    "\n",
    "# Resconstruct\n",
    "sigma = np.zeros((3, 3))\n",
    "np.fill_diagonal(sigma, S)\n",
    "reconstructed = np.dot(U, np.dot(sigma, vt))\n",
    "print(\"reconstructed:\\n\", reconstructed)\n",
    "\n",
    "reconstructed = U @ sigma @ vt\n",
    "print(\"reconstructed:\\n\", reconstructed)"
   ]
  },
  {
   "cell_type": "code",
   "execution_count": null,
   "metadata": {},
   "outputs": [],
   "source": []
  }
 ],
 "metadata": {
  "kernelspec": {
   "display_name": "base",
   "language": "python",
   "name": "python3"
  },
  "language_info": {
   "codemirror_mode": {
    "name": "ipython",
    "version": 3
   },
   "file_extension": ".py",
   "mimetype": "text/x-python",
   "name": "python",
   "nbconvert_exporter": "python",
   "pygments_lexer": "ipython3",
   "version": "3.11.7"
  }
 },
 "nbformat": 4,
 "nbformat_minor": 2
}
