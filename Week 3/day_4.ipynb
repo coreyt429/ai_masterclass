{
 "cells": [
  {
   "attachments": {
    "image.png": {
     "image/png": "[encoded data removed]"
    }
   },
   "cell_type": "markdown",
   "metadata": {},
   "source": [
    "# Understanding Itegrals and ther Applications in ML\n",
    "- What are integrals\n",
    "  - compute the area under a curve, representing accumulation\n",
    "  - the definite integral of f(x) from a to b:\n",
    "    ![image.png](attachment:image.png)\n",
    "- Applications in ML\n",
    "  - Probability Distributions\n",
    "  - Cost Functions\n",
    "  \n"
   ]
  },
  {
   "cell_type": "code",
   "execution_count": 4,
   "metadata": {},
   "outputs": [
    {
     "name": "stdout",
     "output_type": "stream",
     "text": [
      "Definite integral of x^2 from 0 to 2: 8/3\n",
      "Indefinite integral of x^2: x**3/3\n"
     ]
    }
   ],
   "source": [
    "import sympy as sp\n",
    "x = sp.Symbol('x')\n",
    "f = x**2\n",
    "definite_integral = sp.integrate(f, (x, 0, 2))\n",
    "indefinite_integral = sp.integrate(f, x)\n",
    "print(f\"Definite integral of x^2 from 0 to 2: {definite_integral}\") \n",
    "print(f\"Indefinite integral of x^2: {indefinite_integral}\")\n",
    "\n"
   ]
  },
  {
   "cell_type": "markdown",
   "metadata": {},
   "source": [
    "# Optimization Concepts\n",
    "- Local vs Global Minima\n",
    "  - Local Minimum\n",
    "  - Global Minimum\n",
    "- Convex Functions\n",
    "  - $$f(\\lambda x_1 + (1 - \\lambda)x_2) \\leq \\lambda f(x_1) + (1 - \\lambda) f(x_2), \\quad \\text{for all } \\lambda \\in [0, 1]$$\n",
    "  - Ensure that any local minimum is also a global minimum\n",
    "\n",
    "# Stochastic Gradient Descent (SGD) and its Variants\n",
    "- What is Stochastic Gradient descent?\n",
    "  - Optimization algorithm that uses random subsets (mini-batches) of the data to compute gradients and update parameters\n",
    "- Why use SGD?\n",
    "  - faster convergence of large data sets\n",
    "\n",
    "- Variants of SGD\n",
    "  - mini-batch SGD\n",
    "  - Momentum\n",
    "  - Adam Optimizer\n"
   ]
  },
  {
   "cell_type": "code",
   "execution_count": 5,
   "metadata": {},
   "outputs": [
    {
     "name": "stdout",
     "output_type": "stream",
     "text": [
      "Integral: -exp(-x)\n",
      "Definite integral: 1\n",
      "Best theta: [[3.87186075]\n",
      " [3.06654427]]\n"
     ]
    }
   ],
   "source": [
    "# Excercise 1: Calculate Integrals of Simple Functions\n",
    "import sympy as sp\n",
    "x = sp.Symbol('x')\n",
    "f = sp.exp(-x)\n",
    "indefinite_integral = sp.integrate(f, x)\n",
    "print(f\"Integral: {indefinite_integral}\")\n",
    "definite_integral = sp.integrate(f, (x, 0, sp.oo))\n",
    "\n",
    "print(f\"Definite integral: {definite_integral}\")\n",
    "\n",
    "# Excersize 2: Implement Stochastic Gradient Descent for a Linear Model\n",
    "import numpy as np\n",
    "\n",
    "X = 2 * np.random.rand(100, 1)\n",
    "y = 4 + 3 * X + np.random.randn(100, 1)\n",
    "\n",
    "# add bias to term X\n",
    "X_b = np.c_[np.ones((100, 1)), X]  # add x0 = 1 to each instance\n",
    "\n",
    "# SGD Implementation\n",
    "def stochastic_gradient_descent(X, y, theta, learning_rate=0.01, n_iterations=1000):\n",
    "    m = len(y)\n",
    "    for iteration in range(n_iterations):\n",
    "        for i in range(m):\n",
    "            random_index = np.random.randint(m)\n",
    "            xi = X[random_index:random_index + 1]\n",
    "            yi = y[random_index:random_index + 1]\n",
    "            gradients = 2 * xi.T.dot(xi.dot(theta) - yi)\n",
    "            theta = theta - learning_rate * gradients\n",
    "    return theta\n",
    "\n",
    "# initialize parameters\n",
    "theta = np.random.randn(2, 1)\n",
    "learning_rate = 0.01\n",
    "n_epochs = 50\n",
    "theta_best = stochastic_gradient_descent(X_b, y, theta, learning_rate, n_epochs)\n",
    "print(f\"Best theta: {theta_best}\")\n",
    "\n"
   ]
  },
  {
   "cell_type": "code",
   "execution_count": null,
   "metadata": {},
   "outputs": [],
   "source": []
  },
  {
   "cell_type": "code",
   "execution_count": null,
   "metadata": {},
   "outputs": [],
   "source": []
  }
 ],
 "metadata": {
  "kernelspec": {
   "display_name": "ai_masterclass",
   "language": "python",
   "name": "python3"
  },
  "language_info": {
   "codemirror_mode": {
    "name": "ipython",
    "version": 3
   },
   "file_extension": ".py",
   "mimetype": "text/x-python",
   "name": "python",
   "nbconvert_exporter": "python",
   "pygments_lexer": "ipython3",
   "version": "3.13.2"
  }
 },
 "nbformat": 4,
 "nbformat_minor": 2
}
