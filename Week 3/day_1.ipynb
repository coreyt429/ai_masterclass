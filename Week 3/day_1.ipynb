{
 "cells": [
  {
   "cell_type": "code",
   "execution_count": 1,
   "metadata": {},
   "outputs": [],
   "source": [
    "import numpy as np"
   ]
  },
  {
   "cell_type": "code",
   "execution_count": 13,
   "metadata": {},
   "outputs": [
    {
     "name": "stdout",
     "output_type": "stream",
     "text": [
      "Addition:\n",
      " [[ 6  8]\n",
      " [10 12]]\n",
      "Subtraction:\n",
      " [[-4 -4]\n",
      " [-4 -4]]\n",
      "Scalar multiplication:\n",
      " [[2 4]\n",
      " [6 8]]\n",
      "Element-wise multiplication:\n",
      " [[ 5 12]\n",
      " [21 32]]\n",
      "Matrix multiplication:\n",
      " [[19 22]\n",
      " [43 50]]\n",
      "Identity matrix:\n",
      " [[1. 0.]\n",
      " [0. 1.]]\n",
      "Zero matrix:\n",
      " [0. 0.]\n",
      "Diagonal matrix:\n",
      " [[1 0 0]\n",
      " [0 2 0]\n",
      " [0 0 3]]\n"
     ]
    }
   ],
   "source": [
    "A = np.array([[1, 2], [3, 4]])\n",
    "B = np.array([[5, 6], [7, 8]])\n",
    "\n",
    "print(\"Addition:\\n\", A + B)\n",
    "print(\"Subtraction:\\n\", A - B)\n",
    "\n",
    "C = 2 * A\n",
    "print(\"Scalar multiplication:\\n\", C)\n",
    "\n",
    "print(\"Element-wise multiplication:\\n\", A * B)\n",
    "\n",
    "result = np.dot(A, B)\n",
    "print(\"Matrix multiplication:\\n\", result)\n",
    "\n",
    "I = np.eye(2)\n",
    "print(\"Identity matrix:\\n\", I)\n",
    "\n",
    "\n",
    "Z = np.zeros((2))\n",
    "print(\"Zero matrix:\\n\", Z)\n",
    "\n",
    "D = np.diag([1, 2, 3])\n",
    "print(\"Diagonal matrix:\\n\", D)"
   ]
  },
  {
   "cell_type": "code",
   "execution_count": 20,
   "metadata": {},
   "outputs": [
    {
     "name": "stdout",
     "output_type": "stream",
     "text": [
      "Matrix A:\n",
      " [[1 2]\n",
      " [3 4]]\n",
      "Matrix B:\n",
      " [[9 8]\n",
      " [7 6]]\n",
      "Addition:\n",
      " [[10 10]\n",
      " [10 10]]\n",
      "Subtraction:\n",
      " [[8 6]\n",
      " [4 2]]\n",
      "Scalar multiplication:\n",
      " [[2 4]\n",
      " [6 8]]\n",
      "Element-wise multiplication:\n",
      " [[ 9 16]\n",
      " [21 24]]\n",
      "Matrix multiplication:\n",
      " [[23 20]\n",
      " [55 48]]\n"
     ]
    }
   ],
   "source": [
    "# Excercise 1: Create Vectors and Matrices Using Numpy\n",
    "\n",
    "import numpy as np\n",
    "\n",
    "# Create a 2x2 matrix\n",
    "A = np.array([[1, 2], [3, 4]])\n",
    "B = np.array([[9, 8], [7, 6]])\n",
    "print(\"Matrix A:\\n\", A)\n",
    "print(\"Matrix B:\\n\", B)\n",
    "\n",
    "# addition\n",
    "print(\"Addition:\\n\", A + B)\n",
    "\n",
    "# subtraction\n",
    "print(\"Subtraction:\\n\", B- A)\n",
    "\n",
    "# Scalar multiplication\n",
    "print(\"Scalar multiplication:\\n\", 2 * A)\n",
    "\n",
    "# Element-wise multiplication\n",
    "print(\"Element-wise multiplication:\\n\", A * B)\n",
    "\n",
    "# Matrix multiplication\n",
    "result = np.dot(A, B)\n",
    "print(\"Matrix multiplication:\\n\", result)\n",
    "\n"
   ]
  },
  {
   "cell_type": "code",
   "execution_count": 22,
   "metadata": {},
   "outputs": [
    {
     "name": "stdout",
     "output_type": "stream",
     "text": [
      "Matrix vector multiplication:\n",
      " [-2 -2 -2]\n"
     ]
    }
   ],
   "source": [
    "# Excercise 2: Implement matrix vector multiplication using numpy\n",
    "\n",
    "# create matrix and vector\n",
    "M = np.array([[1, 2, 3], [4, 5, 6], [7, 8, 9]])\n",
    "V = np.array([1, 0, -1])\n",
    "\n",
    "# Matrix vector multiplication\n",
    "result = np.dot(M, V)\n",
    "print(\"Matrix vector multiplication:\\n\", result)"
   ]
  },
  {
   "cell_type": "code",
   "execution_count": 24,
   "metadata": {},
   "outputs": [
    {
     "name": "stdout",
     "output_type": "stream",
     "text": [
      "Identity matrix:\n",
      " [[1. 0. 0.]\n",
      " [0. 1. 0.]\n",
      " [0. 0. 1.]]\n",
      "Matrix multiplication with identity matrix:\n",
      " [[1. 2. 3.]\n",
      " [4. 5. 6.]\n",
      " [7. 8. 9.]]\n",
      "Zero matrix:\n",
      " [[0. 0. 0.]\n",
      " [0. 0. 0.]\n",
      " [0. 0. 0.]]\n",
      "Diagonal matrix:\n",
      " [[1 0 0]\n",
      " [0 2 0]\n",
      " [0 0 3]]\n"
     ]
    }
   ],
   "source": [
    "# Excercise 3: Explore Special Matrices\n",
    "\n",
    "# Identity matrix\n",
    "I = np.eye(3)\n",
    "A = np.array([[1, 2, 3], [4, 5, 6], [7, 8, 9]])\n",
    "result = np.dot(A, I)\n",
    "print(\"Identity matrix:\\n\", I)\n",
    "print(\"Matrix multiplication with identity matrix:\\n\", result)\n",
    "\n",
    "# Zero matrix\n",
    "Z = np.zeros((3, 3))\n",
    "print(\"Zero matrix:\\n\", Z)\n",
    "\n",
    "# Diagonal matrix\n",
    "D = np.diag([1, 2, 3])\n",
    "print(\"Diagonal matrix:\\n\", D)\n"
   ]
  },
  {
   "cell_type": "code",
   "execution_count": null,
   "metadata": {},
   "outputs": [],
   "source": []
  }
 ],
 "metadata": {
  "kernelspec": {
   "display_name": "base",
   "language": "python",
   "name": "python3"
  },
  "language_info": {
   "codemirror_mode": {
    "name": "ipython",
    "version": 3
   },
   "file_extension": ".py",
   "mimetype": "text/x-python",
   "name": "python",
   "nbconvert_exporter": "python",
   "pygments_lexer": "ipython3",
   "version": "3.11.7"
  }
 },
 "nbformat": 4,
 "nbformat_minor": 2
}
