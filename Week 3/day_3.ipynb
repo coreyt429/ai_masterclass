{
 "cells": [
  {
   "cell_type": "markdown",
   "metadata": {
    "vscode": {
     "languageId": "plaintext"
    }
   },
   "source": [
    "# Introduction to derivitaves and their roles in optimization\n",
    "\n",
    "- What are Derivitives\n",
    "  - Measure the rate which a function changes with respect to its input\n",
    "  - For a function f(x), the derivitave f'(x)  indicates teh slope of the tangent line at a point x\n",
    "- Role in Optimixstion\n",
    "- Common Derivatives\n"
   ]
  },
  {
   "cell_type": "markdown",
   "metadata": {},
   "source": []
  },
  {
   "cell_type": "code",
   "execution_count": 1,
   "metadata": {},
   "outputs": [],
   "source": [
    "import sympy as sp"
   ]
  },
  {
   "cell_type": "code",
   "execution_count": 2,
   "metadata": {},
   "outputs": [
    {
     "name": "stdout",
     "output_type": "stream",
     "text": [
      "2*x\n"
     ]
    }
   ],
   "source": [
    "x = sp.symbols('x')\n",
    "f = x**2\n",
    "derivitave = sp.diff(f, x)\n",
    "print(derivitave)"
   ]
  },
  {
   "cell_type": "markdown",
   "metadata": {},
   "source": [
    "# Partial Derivatives\n",
    "- Partial Derivitaves\n",
    "  - Measures how  a function changes with respect to one variable while keeping the other variables constant\n",
    "- Gradients\n",
    "  - Vecftore of all partial derivatives, indicating the direction of the steepest ascent\n",
    "  "
   ]
  },
  {
   "cell_type": "code",
   "execution_count": 3,
   "metadata": {},
   "outputs": [
    {
     "name": "stdout",
     "output_type": "stream",
     "text": [
      "Partial derivitave with respect to x:  2*x\n",
      "Gradient:  [2*x, 2*y]\n"
     ]
    }
   ],
   "source": [
    "# Partial derivitaves\n",
    "x, y = sp.symbols('x y')\n",
    "f = x**2 + y**2\n",
    "\n",
    "# Partial derivitave with respect to x\n",
    "dfdx = sp.diff(f, x)\n",
    "print(\"Partial derivitave with respect to x: \", dfdx)\n",
    "\n",
    "# Gradient\n",
    "grad = [sp.diff(f, x), sp.diff(f, y)]\n",
    "print(\"Gradient: \", grad)\n",
    "\n"
   ]
  },
  {
   "cell_type": "markdown",
   "metadata": {},
   "source": [
    "# Gradient Descent Optimization Algorithm\n",
    "- What is Gradient Descent?\n",
    "  - Iterative optimization algorithm used to minimize a function\n",
    "  - Updates parameters in the direction of the negative gradient to find the minimum\n",
    "- Update Rule:  \n",
    "    - \\( \\theta = \\theta - \\alpha \\nabla f(\\theta) \\)  \n",
    "        - Where:  \n",
    "            - \\( \\theta \\): Parameters to be updated  \n",
    "            - \\( \\alpha \\): Learning rate  \n",
    "            - \\( \\nabla f(\\theta) \\): Gradient of the function with respect to \\( \\theta \\)\n",
    "- Why is Gradient Descent Important in Machine Learning?\n"
   ]
  },
  {
   "cell_type": "code",
   "execution_count": 4,
   "metadata": {},
   "outputs": [
    {
     "name": "stdout",
     "output_type": "stream",
     "text": [
      "Function: x^3 + 5x + 7\n",
      "Derivitave of x^3 + 5x + 7:  3*x**2 + 5\n"
     ]
    }
   ],
   "source": [
    "# Excercise 1: Compute Deriviates of basic functions\n",
    "import sympy as sp\n",
    "\n",
    "# create a symbol\n",
    "x = sp.symbols('x')\n",
    "# create a function\n",
    "f = x**3 + 5*x + 7\n",
    "derivitave = sp.diff(f, x)\n",
    "print(\"Function: x^3 + 5x + 7\")\n",
    "print(\"Derivitave of x^3 + 5x + 7: \", derivitave)\n"
   ]
  },
  {
   "cell_type": "code",
   "execution_count": 5,
   "metadata": {},
   "outputs": [
    {
     "name": "stdout",
     "output_type": "stream",
     "text": [
      "Function: x^2 + 3y^2 - 4xy\n",
      "Partial derivitave with respect to x:  2*x - 4*y\n",
      "Partial derivitave with respect to y:  -4*x + 6*y\n",
      "Gradient:  [2*x - 4*y, -4*x + 6*y]\n"
     ]
    }
   ],
   "source": [
    "# Excercise 2: Compute Partial Derivitaves and Gradient\n",
    "# define symbols\n",
    "x, y = sp.symbols('x y')\n",
    "# define function\n",
    "f = x**2 + 3*y**2 - 4*x*y\n",
    "\n",
    "# compute partial derivitaves\n",
    "dfdx = sp.diff(f, x)\n",
    "dfdy = sp.diff(f, y)\n",
    "# compute gradient\n",
    "grad = [dfdx, dfdy]\n",
    "\n",
    "print(\"Function: x^2 + 3y^2 - 4xy\")\n",
    "print(\"Partial derivitave with respect to x: \", dfdx)\n",
    "print(\"Partial derivitave with respect to y: \", dfdy)\n",
    "print(\"Gradient: \", grad)\n"
   ]
  },
  {
   "cell_type": "code",
   "execution_count": 6,
   "metadata": {},
   "outputs": [
    {
     "name": "stdout",
     "output_type": "stream",
     "text": [
      "Optimized theta:  [1.166663   0.75000161]\n"
     ]
    }
   ],
   "source": [
    "# Excercise 3: Implement FGradient Descent for Linear Regression\n",
    "import numpy as np\n",
    "import sympy as sp\n",
    "\n",
    "# Define the gradient descent function\n",
    "def gradient_descent(X, y, theta, learning_rate, n_iterations):\n",
    "    # number of samples\n",
    "    m = len(y)\n",
    "    for _ in range(n_iterations):\n",
    "        predictions = np.dot(X, theta)\n",
    "        errors = predictions - y\n",
    "        gradient = 1/m * np.dot(X.T, errors)\n",
    "        theta -= learning_rate * gradient\n",
    "    return theta\n",
    "\n",
    "# sample data\n",
    "X = np.array([[1, 1], [1, 2], [1, 3]])\n",
    "y = np.array([2, 2.5, 3.5])\n",
    "theta = np.array([0.1, 0.1])\n",
    "learning_rate = 0.1\n",
    "n_iterations = 1000\n",
    "\n",
    "# Perform gradient descent\n",
    "optimized_theta = gradient_descent(X, y, theta, learning_rate, n_iterations)\n",
    "print(\"Optimized theta: \", optimized_theta)\n"
   ]
  },
  {
   "cell_type": "code",
   "execution_count": null,
   "metadata": {},
   "outputs": [],
   "source": []
  }
 ],
 "metadata": {
  "kernelspec": {
   "display_name": "ai_masterclass",
   "language": "python",
   "name": "python3"
  },
  "language_info": {
   "codemirror_mode": {
    "name": "ipython",
    "version": 3
   },
   "file_extension": ".py",
   "mimetype": "text/x-python",
   "name": "python",
   "nbconvert_exporter": "python",
   "pygments_lexer": "ipython3",
   "version": "3.13.2"
  }
 },
 "nbformat": 4,
 "nbformat_minor": 2
}
