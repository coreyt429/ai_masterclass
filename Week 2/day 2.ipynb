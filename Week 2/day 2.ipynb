{
 "cells": [
  {
   "cell_type": "code",
   "execution_count": 2,
   "metadata": {},
   "outputs": [],
   "source": [
    "import numpy as np"
   ]
  },
  {
   "cell_type": "code",
   "execution_count": 4,
   "metadata": {},
   "outputs": [
    {
     "name": "stdout",
     "output_type": "stream",
     "text": [
      "[11 12 13]\n"
     ]
    }
   ],
   "source": [
    "arr = np.array([1, 2, 3])\n",
    "print(arr + 10)"
   ]
  },
  {
   "cell_type": "code",
   "execution_count": 5,
   "metadata": {},
   "outputs": [
    {
     "name": "stdout",
     "output_type": "stream",
     "text": [
      "[[2 2 4]\n",
      " [5 5 7]]\n"
     ]
    }
   ],
   "source": [
    "matrix = np.array([[1, 2, 3], [4, 5, 6]])\n",
    "vector = np.array([1, 0, 1])\n",
    "print(matrix + vector)"
   ]
  },
  {
   "cell_type": "code",
   "execution_count": 11,
   "metadata": {},
   "outputs": [
    {
     "name": "stdout",
     "output_type": "stream",
     "text": [
      "Sum: 21\n",
      "Mean: 3.5\n",
      "Max: 6\n",
      "Min: 1\n",
      "Std: 1.707825127659933\n",
      "Var: 2.9166666666666665\n",
      "Sum along rows: [ 6 15]\n",
      "Sum along columns: [5 7 9]\n"
     ]
    }
   ],
   "source": [
    "arr = np.array([[1, 2, 3], [4, 5, 6]])\n",
    "print(f\"Sum: {np.sum(arr)}\")\n",
    "print(f\"Mean: {np.mean(arr)}\")\n",
    "print(f\"Max: {np.max(arr)}\")\n",
    "print(f\"Min: {np.min(arr)}\")\n",
    "print(f\"Std: {np.std(arr)}\")\n",
    "print(f\"Var: {np.var(arr)}\")\n",
    "print(f\"Sum along rows: {np.sum(arr, axis=1)}\")\n",
    "print(f\"Sum along columns: {np.sum(arr, axis=0)}\")\n"
   ]
  },
  {
   "cell_type": "code",
   "execution_count": 13,
   "metadata": {},
   "outputs": [
    {
     "name": "stdout",
     "output_type": "stream",
     "text": [
      "[2 4 6]\n",
      "Modified array: [1 2 3 0 0 0]\n"
     ]
    }
   ],
   "source": [
    "arr = np.array([1, 2, 3, 4, 5, 6])\n",
    "\n",
    "evens = arr[arr % 2 == 0]\n",
    "print(evens)\n",
    "\n",
    "arr[arr > 3]  = 0\n",
    "print(f\"Modified array: {arr}\")"
   ]
  },
  {
   "cell_type": "code",
   "execution_count": 20,
   "metadata": {},
   "outputs": [
    {
     "name": "stdout",
     "output_type": "stream",
     "text": [
      "Random array: \n",
      "[[0.37454012 0.95071431 0.73199394]\n",
      " [0.59865848 0.15601864 0.15599452]\n",
      " [0.05808361 0.86617615 0.60111501]]\n",
      "Random integers: \n",
      "[[7 2 5]\n",
      " [4 1 7]]\n"
     ]
    }
   ],
   "source": [
    "np.random.seed(42)\n",
    "random_array = np.random.rand(3, 3)\n",
    "print(f\"Random array: \\n{random_array}\")\n",
    "\n",
    "random_integers = np.random.randint(0, 10, (2, 3))\n",
    "print(f\"Random integers: \\n{random_integers}\")\n"
   ]
  },
  {
   "cell_type": "code",
   "execution_count": 22,
   "metadata": {},
   "outputs": [
    {
     "name": "stdout",
     "output_type": "stream",
     "text": [
      "Matrix: \n",
      "[[1 2 3]\n",
      " [4 5 6]\n",
      " [7 8 9]]\n",
      "Vector: [ 1  0 -1]\n",
      "Result of addition: \n",
      "[[2 2 2]\n",
      " [5 5 5]\n",
      " [8 8 8]]\n",
      "Result of multiplication: \n",
      "[[ 2  4  6]\n",
      " [ 8 10 12]\n",
      " [14 16 18]]\n"
     ]
    }
   ],
   "source": [
    "# excercise 1\n",
    "matrix = np.array([[1, 2, 3], [4, 5, 6], [7, 8, 9]])\n",
    "print(f\"Matrix: \\n{matrix}\")\n",
    "vector = np.array([1, 0, -1])\n",
    "print(f\"Vector: {vector}\")\n",
    "\n",
    "result_addition = matrix + vector\n",
    "print(f\"Result of addition: \\n{result_addition}\")\n",
    "result_multiplication = matrix * 2\n",
    "print(f\"Result of multiplication: \\n{result_multiplication}\")\n"
   ]
  },
  {
   "cell_type": "code",
   "execution_count": 31,
   "metadata": {},
   "outputs": [
    {
     "name": "stdout",
     "output_type": "stream",
     "text": [
      "Original dataset:\n",
      " [[35 38 13 47 25]\n",
      " [ 9  4 14 37 34]\n",
      " [11 41  3 28 29]\n",
      " [ 9  3 25 34 12]\n",
      " [42  9 15 40 25]]\n",
      "Modified dataset:\n",
      " [[ 0  0 13  0 25]\n",
      " [ 9  4 14  0  0]\n",
      " [11  0  3  0  0]\n",
      " [ 9  3 25  0 12]\n",
      " [ 0  9 15  0 25]]\n",
      "Sum: 177\n",
      "Mean: 7.08\n",
      "Standard deviation: 8.375774591045296\n"
     ]
    }
   ],
   "source": [
    "# excercise 2\n",
    "\n",
    "dataset = np.random.randint(1,51, size=(5,5))\n",
    "print(f\"Original dataset:\\n {dataset}\")\n",
    "# filter values greater than 25\n",
    "dataset[dataset > 25] = 0\n",
    "print(f\"Modified dataset:\\n {dataset}\")\n",
    "# calculate summary stats\n",
    "print(f\"Sum: {np.sum(dataset)}\")\n",
    "print(f\"Mean: {np.mean(dataset)}\")\n",
    "print(f\"Standard deviation: {np.std(dataset)}\")\n"
   ]
  },
  {
   "cell_type": "code",
   "execution_count": 34,
   "metadata": {},
   "outputs": [
    {
     "name": "stdout",
     "output_type": "stream",
     "text": [
      "3D array: \n",
      "[[[0.54126658 0.962992   0.34187217]\n",
      "  [0.63262189 0.93202811 0.10250973]\n",
      "  [0.93722849 0.68788572 0.06783706]]\n",
      "\n",
      " [[0.30096357 0.70817209 0.0673506 ]\n",
      "  [0.58217046 0.34588306 0.62091552]\n",
      "  [0.04574203 0.87153681 0.97348897]]\n",
      "\n",
      " [[0.96887786 0.74965183 0.13008624]\n",
      "  [0.7582632  0.02458692 0.02212355]\n",
      "  [0.32361022 0.48864319 0.77040742]]]\n",
      "Mean along x-axis: \n",
      "[[0.60370267 0.80693864 0.17976967]\n",
      " [0.65768518 0.43416603 0.24851627]\n",
      " [0.43552691 0.68268857 0.60391115]]\n",
      "Mean along y-axis: \n",
      "[[0.70370565 0.86096861 0.17073965]\n",
      " [0.30962535 0.64186398 0.55391836]\n",
      " [0.68358376 0.42096065 0.30753907]]\n",
      "Mean along z-axis: \n",
      "[[0.61537692 0.55571991 0.56431709]\n",
      " [0.35882875 0.51632301 0.63025594]\n",
      " [0.61620531 0.26832455 0.52755361]]\n"
     ]
    }
   ],
   "source": [
    "# additional practice\n",
    "\n",
    "# Create a 3d random array and compute statistics along specified axis\n",
    "arr = np.random.rand(3, 3, 3)\n",
    "print(f\"3D array: \\n{arr}\")\n",
    "\n",
    "mean_x = np.mean(arr, axis=0)\n",
    "mean_y = np.mean(arr, axis=1)\n",
    "mean_z = np.mean(arr, axis=2)\n",
    "\n",
    "print(f\"Mean along x-axis: \\n{mean_x}\")\n",
    "print(f\"Mean along y-axis: \\n{mean_y}\")\n",
    "print(f\"Mean along z-axis: \\n{mean_z}\")\n",
    "\n"
   ]
  },
  {
   "cell_type": "code",
   "execution_count": 35,
   "metadata": {},
   "outputs": [
    {
     "name": "stdout",
     "output_type": "stream",
     "text": [
      "Original array: \n",
      "[[0.68329538 0.44590271 0.27362667]\n",
      " [0.9971245  0.4261813  0.45138702]\n",
      " [0.16362382 0.79480955 0.69368223]]\n",
      "Normalized array: \n",
      "[[0.62348066 0.33866665 0.13197691]\n",
      " [1.         0.31500572 0.34524651]\n",
      " [0.         0.7572708  0.63594238]]\n"
     ]
    }
   ],
   "source": [
    "# write a program to generate a dataset from random floats and normalize the values between 0 and 1\n",
    "arr = np.random.rand(3, 3)\n",
    "print(f\"Original array: \\n{arr}\")\n",
    "arr_min = np.min(arr)\n",
    "arr_max = np.max(arr)\n",
    "normalized = (arr - arr_min) / (arr_max - arr_min)\n",
    "print(f\"Normalized array: \\n{normalized}\")\n",
    "\n"
   ]
  },
  {
   "cell_type": "code",
   "execution_count": 48,
   "metadata": {},
   "outputs": [
    {
     "name": "stdout",
     "output_type": "stream",
     "text": [
      "Original array: [ 7  4  4  6 10  6 10  3  9 10]\n",
      "Binary mask (7): [0 0 0 0 1 0 1 0 1 1]\n"
     ]
    }
   ],
   "source": [
    "# implement conditional replacement to create a binary mask for values above a threshold\n",
    "\n",
    "arr = np.random.randint(1, 11, size=(10))\n",
    "print(f\"Original array: {arr}\")\n",
    "threshold = 7\n",
    "# do less than first, othersie they are 1 which is less than the threshold\n",
    "\n",
    "arr[arr <= threshold] = 0\n",
    "arr[arr > threshold] = 1\n",
    "print(f\"Binary mask ({threshold}): {arr}\")"
   ]
  },
  {
   "cell_type": "code",
   "execution_count": null,
   "metadata": {},
   "outputs": [],
   "source": []
  }
 ],
 "metadata": {
  "kernelspec": {
   "display_name": "base",
   "language": "python",
   "name": "python3"
  },
  "language_info": {
   "codemirror_mode": {
    "name": "ipython",
    "version": 3
   },
   "file_extension": ".py",
   "mimetype": "text/x-python",
   "name": "python",
   "nbconvert_exporter": "python",
   "pygments_lexer": "ipython3",
   "version": "3.11.7"
  }
 },
 "nbformat": 4,
 "nbformat_minor": 2
}
