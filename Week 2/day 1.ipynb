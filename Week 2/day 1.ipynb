{
 "cells": [
  {
   "cell_type": "code",
   "execution_count": 1,
   "metadata": {},
   "outputs": [],
   "source": [
    "import numpy as np"
   ]
  },
  {
   "cell_type": "code",
   "execution_count": 2,
   "metadata": {},
   "outputs": [
    {
     "name": "stdout",
     "output_type": "stream",
     "text": [
      "[1 2 3 4 5]\n",
      "[ 6  7  8  9 10]\n"
     ]
    }
   ],
   "source": [
    "a = np.arange(1,6)\n",
    "b = np.arange(6,11)\n",
    "\n",
    "print(a)\n",
    "print(b)"
   ]
  },
  {
   "cell_type": "code",
   "execution_count": 3,
   "metadata": {},
   "outputs": [
    {
     "name": "stdout",
     "output_type": "stream",
     "text": [
      "Add:  [ 7  9 11 13 15]\n",
      "Subtract:  [-5 -5 -5 -5 -5]\n",
      "Multiply:  [ 6 14 24 36 50]\n",
      "Divide:  [0.16666667 0.28571429 0.375      0.44444444 0.5       ]\n"
     ]
    }
   ],
   "source": [
    "print(\"Add: \", a+b)\n",
    "print(\"Subtract: \", a-b)\n",
    "print(\"Multiply: \", a*b)\n",
    "print(\"Divide: \", a/b)"
   ]
  },
  {
   "cell_type": "code",
   "execution_count": 6,
   "metadata": {},
   "outputs": [
    {
     "name": "stdout",
     "output_type": "stream",
     "text": [
      "matrix: [[1 2 3]\n",
      " [4 5 6]\n",
      " [7 8 9]]\n",
      "transpose: [[1 4 7]\n",
      " [2 5 8]\n",
      " [3 6 9]]\n"
     ]
    }
   ],
   "source": [
    "matrix = np.array([[1,2,3], [4,5,6], [7,8,9]])\n",
    "print(f\"matrix: {matrix}\")\n",
    "transpose = matrix.T\n",
    "print(f\"transpose: {transpose}\")\n"
   ]
  },
  {
   "cell_type": "code",
   "execution_count": 7,
   "metadata": {},
   "outputs": [
    {
     "name": "stdout",
     "output_type": "stream",
     "text": [
      "Addition of two matrices: [[10 10 10]\n",
      " [10 10 10]\n",
      " [10 10 10]]\n",
      "Multiplication of two matrices: [[ 9 16 21]\n",
      " [24 25 24]\n",
      " [21 16  9]]\n"
     ]
    }
   ],
   "source": [
    "another_matrix = np.array([[9,8,7], [6,5,4], [3,2,1]])\n",
    "print(f\"Addition of two matrices: {matrix + another_matrix}\")\n",
    "print(f\"Multiplication of two matrices: {matrix * another_matrix}\")\n"
   ]
  },
  {
   "cell_type": "code",
   "execution_count": 13,
   "metadata": {},
   "outputs": [
    {
     "name": "stdout",
     "output_type": "stream",
     "text": [
      "matrix: [[0.0470673  0.65355656 0.43696305 0.01314567]\n",
      " [0.5285585  0.33070527 0.91493405 0.14353839]\n",
      " [0.01027014 0.82881821 0.3142861  0.98765292]\n",
      " [0.26983642 0.54831709 0.67475154 0.81464464]]\n",
      "Sum of columns: [0.85573236 2.36139713 2.34093474 1.95898162]\n",
      "array: [1 2 3 4 5]\n",
      "normalized array: [0.   0.25 0.5  0.75 1.  ]\n",
      "array: [0.74524539 0.45894292 0.42817598 0.51125894 0.03475223 0.69574077\n",
      " 0.29651397 0.13224047 0.80228683 0.50089289]\n",
      "min value: 0.034752231003280065\n",
      "max value: 0.8022868289121667\n"
     ]
    }
   ],
   "source": [
    "# create a 4x4 matrix and calculate the sum of its columns\n",
    "matrix = np.random.rand(4,4)\n",
    "print(f\"matrix: {matrix}\")\n",
    "sum_of_columns = np.sum(matrix, axis=0)\n",
    "print(f\"Sum of columns: {sum_of_columns}\")\n",
    "\n",
    "# write a program to normalize an array (scale values between 0 and 1)\n",
    "array = np.array([1,2,3,4,5])\n",
    "print(f\"array: {array}\")\n",
    "normalized_array = np.interp(array, (array.min(), array.max()), (0, 1))\n",
    "print(f\"normalized array: {normalized_array}\")\n",
    "\n",
    "# Generate a radom array and find its min and max values\n",
    "array = np.random.rand(10)\n",
    "print(f\"array: {array}\")\n",
    "min_value = np.min(array)\n",
    "max_value = np.max(array)\n",
    "print(f\"min value: {min_value}\")\n",
    "print(f\"max value: {max_value}\")\n"
   ]
  },
  {
   "cell_type": "code",
   "execution_count": null,
   "metadata": {},
   "outputs": [],
   "source": []
  },
  {
   "cell_type": "code",
   "execution_count": null,
   "metadata": {},
   "outputs": [],
   "source": []
  }
 ],
 "metadata": {
  "kernelspec": {
   "display_name": "base",
   "language": "python",
   "name": "python3"
  },
  "language_info": {
   "codemirror_mode": {
    "name": "ipython",
    "version": 3
   },
   "file_extension": ".py",
   "mimetype": "text/x-python",
   "name": "python",
   "nbconvert_exporter": "python",
   "pygments_lexer": "ipython3",
   "version": "3.11.7"
  }
 },
 "nbformat": 4,
 "nbformat_minor": 2
}
