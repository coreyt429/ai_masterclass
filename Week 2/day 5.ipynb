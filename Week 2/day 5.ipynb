{
 "cells": [
  {
   "cell_type": "code",
   "execution_count": 1,
   "metadata": {},
   "outputs": [],
   "source": [
    "import pandas as pd\n",
    "\n",
    "data = {\n",
    "    \"column_name\": [\"A\", \"B\", \"C\", \"D\"],\n",
    "    \"category_column\": [\"X\", \"Y\", \"X\", \"Z\"],\n",
    "    \"numeric_column\": [10, 20, 30, 40]\n",
    "}\n",
    "df = pd.DataFrame(data)"
   ]
  },
  {
   "cell_type": "code",
   "execution_count": 2,
   "metadata": {},
   "outputs": [
    {
     "name": "stdout",
     "output_type": "stream",
     "text": [
      "A\n",
      "  column_name category_column  numeric_column\n",
      "0           A               X              10\n",
      "B\n",
      "  column_name category_column  numeric_column\n",
      "1           B               Y              20\n",
      "C\n",
      "  column_name category_column  numeric_column\n",
      "2           C               X              30\n",
      "D\n",
      "  column_name category_column  numeric_column\n",
      "3           D               Z              40\n"
     ]
    }
   ],
   "source": [
    "grouped = df.groupby(\"column_name\")\n",
    "\n",
    "for name, group in grouped:\n",
    "    print(name)\n",
    "    print(group)\n",
    "    "
   ]
  },
  {
   "cell_type": "code",
   "execution_count": 4,
   "metadata": {},
   "outputs": [
    {
     "data": {
      "text/plain": [
       "column_name\n",
       "A    10\n",
       "B    20\n",
       "C    30\n",
       "D    40\n",
       "Name: numeric_column, dtype: int64"
      ]
     },
     "execution_count": 4,
     "metadata": {},
     "output_type": "execute_result"
    }
   ],
   "source": [
    "df.groupby(\"column_name\")[\"numeric_column\"].sum()"
   ]
  },
  {
   "cell_type": "code",
   "execution_count": 6,
   "metadata": {},
   "outputs": [
    {
     "data": {
      "text/html": [
       "<div>\n",
       "<style scoped>\n",
       "    .dataframe tbody tr th:only-of-type {\n",
       "        vertical-align: middle;\n",
       "    }\n",
       "\n",
       "    .dataframe tbody tr th {\n",
       "        vertical-align: top;\n",
       "    }\n",
       "\n",
       "    .dataframe thead tr th {\n",
       "        text-align: left;\n",
       "    }\n",
       "\n",
       "    .dataframe thead tr:last-of-type th {\n",
       "        text-align: right;\n",
       "    }\n",
       "</style>\n",
       "<table border=\"1\" class=\"dataframe\">\n",
       "  <thead>\n",
       "    <tr>\n",
       "      <th></th>\n",
       "      <th colspan=\"3\" halign=\"left\">numeric_column</th>\n",
       "    </tr>\n",
       "    <tr>\n",
       "      <th></th>\n",
       "      <th>mean</th>\n",
       "      <th>max</th>\n",
       "      <th>min</th>\n",
       "    </tr>\n",
       "    <tr>\n",
       "      <th>column_name</th>\n",
       "      <th></th>\n",
       "      <th></th>\n",
       "      <th></th>\n",
       "    </tr>\n",
       "  </thead>\n",
       "  <tbody>\n",
       "    <tr>\n",
       "      <th>A</th>\n",
       "      <td>10.0</td>\n",
       "      <td>10</td>\n",
       "      <td>10</td>\n",
       "    </tr>\n",
       "    <tr>\n",
       "      <th>B</th>\n",
       "      <td>20.0</td>\n",
       "      <td>20</td>\n",
       "      <td>20</td>\n",
       "    </tr>\n",
       "    <tr>\n",
       "      <th>C</th>\n",
       "      <td>30.0</td>\n",
       "      <td>30</td>\n",
       "      <td>30</td>\n",
       "    </tr>\n",
       "    <tr>\n",
       "      <th>D</th>\n",
       "      <td>40.0</td>\n",
       "      <td>40</td>\n",
       "      <td>40</td>\n",
       "    </tr>\n",
       "  </tbody>\n",
       "</table>\n",
       "</div>"
      ],
      "text/plain": [
       "            numeric_column        \n",
       "                      mean max min\n",
       "column_name                       \n",
       "A                     10.0  10  10\n",
       "B                     20.0  20  20\n",
       "C                     30.0  30  30\n",
       "D                     40.0  40  40"
      ]
     },
     "execution_count": 6,
     "metadata": {},
     "output_type": "execute_result"
    }
   ],
   "source": [
    "df.groupby(\"column_name\").agg({\"numeric_column\": [\"mean\", \"max\", \"min\"]})"
   ]
  },
  {
   "cell_type": "code",
   "execution_count": 8,
   "metadata": {},
   "outputs": [
    {
     "name": "stdout",
     "output_type": "stream",
     "text": [
      "                 numeric_column\n",
      "category_column                \n",
      "X                          20.0\n",
      "Y                          20.0\n",
      "Z                          40.0\n"
     ]
    }
   ],
   "source": [
    "pivot = df.pivot_table(\n",
    "    values=\"numeric_column\",\n",
    "    index=\"category_column\",\n",
    "    aggfunc=\"mean\"\n",
    ")\n",
    "print(pivot)"
   ]
  },
  {
   "cell_type": "code",
   "execution_count": 9,
   "metadata": {},
   "outputs": [
    {
     "name": "stdout",
     "output_type": "stream",
     "text": [
      "                 numeric_column\n",
      "category_column                \n",
      "X                            20\n",
      "Y                             0\n",
      "Z                             0\n"
     ]
    }
   ],
   "source": [
    "def range_func(x):\n",
    "    return x.max() - x.min()\n",
    "\n",
    "pivot = df.pivot_table(\n",
    "    values=\"numeric_column\",\n",
    "    index=\"category_column\",\n",
    "    aggfunc=range_func\n",
    ")\n",
    "print(pivot)"
   ]
  },
  {
   "cell_type": "code",
   "execution_count": 12,
   "metadata": {},
   "outputs": [
    {
     "name": "stdout",
     "output_type": "stream",
     "text": [
      "Original Dataset:\n",
      "  class  score  age\n",
      "0     A     85   15\n",
      "1     B     90   16\n",
      "2     A     88   15\n",
      "3     B     72   17\n",
      "4     C     95   16\n",
      "5     C     80   15\n",
      "\n",
      "Grouped by class:\n",
      "       score   age\n",
      "class             \n",
      "A       86.5  15.0\n",
      "B       81.0  16.5\n",
      "C       87.5  15.5\n"
     ]
    }
   ],
   "source": [
    "# Excercise 1: Group data by a categorical column\n",
    "\n",
    "import pandas as pd\n",
    "\n",
    "data = {\n",
    "    \"class\": [\"A\", \"B\", \"A\", \"B\", \"C\", \"C\"],\n",
    "    \"score\": [85, 90, 88, 72, 95, 80],\n",
    "    \"age\": [15, 16, 15, 17, 16, 15]\n",
    "}\n",
    "\n",
    "df = pd.DataFrame(data)\n",
    "\n",
    "print(f\"Original Dataset:\\n{df}\\n\")\n",
    "\n",
    "grouped = df.groupby(\"class\").mean()\n",
    "print(f\"Grouped by class:\\n{grouped}\")"
   ]
  },
  {
   "cell_type": "code",
   "execution_count": 14,
   "metadata": {},
   "outputs": [
    {
     "name": "stdout",
     "output_type": "stream",
     "text": [
      "Summary statistics:\n",
      "      score           age        \n",
      "       mean max min  mean max min\n",
      "class                            \n",
      "A      86.5  88  85  15.0  15  15\n",
      "B      81.0  90  72  16.5  17  16\n",
      "C      87.5  95  80  15.5  16  15\n"
     ]
    }
   ],
   "source": [
    "# Excercise 2: Calculate summary statistics for grouped data\n",
    "\n",
    "stats = df.groupby(\"class\").agg({\n",
    "    \"score\": [\"mean\", \"max\", \"min\"],\n",
    "    \"age\": [\"mean\", \"max\", \"min\"]\n",
    "})\n",
    "\n",
    "print(f\"Summary statistics:\\n{stats}\")"
   ]
  },
  {
   "cell_type": "code",
   "execution_count": null,
   "metadata": {},
   "outputs": [],
   "source": []
  }
 ],
 "metadata": {
  "kernelspec": {
   "display_name": "base",
   "language": "python",
   "name": "python3"
  },
  "language_info": {
   "codemirror_mode": {
    "name": "ipython",
    "version": 3
   },
   "file_extension": ".py",
   "mimetype": "text/x-python",
   "name": "python",
   "nbconvert_exporter": "python",
   "pygments_lexer": "ipython3",
   "version": "3.11.7"
  }
 },
 "nbformat": 4,
 "nbformat_minor": 2
}
