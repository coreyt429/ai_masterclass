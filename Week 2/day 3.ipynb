{
 "cells": [
  {
   "cell_type": "code",
   "execution_count": 4,
   "metadata": {},
   "outputs": [],
   "source": [
    "import numpy as np\n",
    "import pandas as pd"
   ]
  },
  {
   "cell_type": "code",
   "execution_count": 10,
   "metadata": {},
   "outputs": [
    {
     "name": "stdout",
     "output_type": "stream",
     "text": [
      "Series:\n",
      "a    10\n",
      "b    20\n",
      "c    30\n",
      "dtype: int64\n",
      "\n",
      "DataFrame:\n",
      "    Name  Age\n",
      "0  Alice   25\n",
      "1    Bob   30\n"
     ]
    }
   ],
   "source": [
    "s = pd.Series([10, 20, 30], index=['a', 'b', 'c'])\n",
    "print(f\"Series:\\n{s}\")\n",
    "\n",
    "data = {\"Name\": [\"Alice\", \"Bob\"], \"Age\": [25, 30]}\n",
    "print()\n",
    "df = pd.DataFrame(data)\n",
    "print(f\"DataFrame:\\n{df}\")\n",
    "\n",
    "df.to_csv(\"data.csv\", index=False)\n",
    "df.to_excel(\"data.xlsx\", index=False)"
   ]
  },
  {
   "cell_type": "code",
   "execution_count": 12,
   "metadata": {},
   "outputs": [
    {
     "name": "stdout",
     "output_type": "stream",
     "text": [
      "    Name  Age\n",
      "0  Alice   25\n",
      "1    Bob   30\n"
     ]
    }
   ],
   "source": [
    "df = pd.read_csv(\"data.csv\")\n",
    "print(df)"
   ]
  },
  {
   "cell_type": "code",
   "execution_count": 17,
   "metadata": {},
   "outputs": [
    {
     "name": "stdout",
     "output_type": "stream",
     "text": [
      "    Name  Age\n",
      "0  Alice   25\n",
      "\n",
      "  Name  Age\n",
      "1  Bob   30\n",
      "\n",
      "<class 'pandas.core.frame.DataFrame'>\n",
      "RangeIndex: 2 entries, 0 to 1\n",
      "Data columns (total 2 columns):\n",
      " #   Column  Non-Null Count  Dtype \n",
      "---  ------  --------------  ----- \n",
      " 0   Name    2 non-null      object\n",
      " 1   Age     2 non-null      int64 \n",
      "dtypes: int64(1), object(1)\n",
      "memory usage: 164.0+ bytes\n",
      "None\n",
      "\n",
      "             Age\n",
      "count   2.000000\n",
      "mean   27.500000\n",
      "std     3.535534\n",
      "min    25.000000\n",
      "25%    26.250000\n",
      "50%    27.500000\n",
      "75%    28.750000\n",
      "max    30.000000\n"
     ]
    }
   ],
   "source": [
    "print(df.head(1))\n",
    "print()\n",
    "print(df.tail(1 ))\n",
    "print()\n",
    "print(df.info())\n",
    "print()\n",
    "print(df.describe())"
   ]
  },
  {
   "cell_type": "code",
   "execution_count": 21,
   "metadata": {},
   "outputs": [
    {
     "name": "stdout",
     "output_type": "stream",
     "text": [
      "  Name  Age\n",
      "1  Bob   30\n",
      "Name    Alice\n",
      "Age        25\n",
      "Name: 0, dtype: object\n",
      "0    Alice\n",
      "1      Bob\n",
      "Name: Name, dtype: object\n"
     ]
    }
   ],
   "source": [
    "print(df[df[\"Age\"] > 25])\n",
    "\n",
    "print(df.iloc[0])\n",
    "print(df.iloc[:,0])"
   ]
  },
  {
   "cell_type": "code",
   "execution_count": 31,
   "metadata": {},
   "outputs": [
    {
     "name": "stdout",
     "output_type": "stream",
     "text": [
      "First 5 rows:\n",
      "   sepal_length  sepal_width  petallength  petal_width      species\n",
      "0           5.1          3.5          1.4          0.2  Iris-setosa\n",
      "1           4.9          3.0          1.4          0.2  Iris-setosa\n",
      "2           4.7          3.2          1.3          0.2  Iris-setosa\n",
      "3           4.6          3.1          1.5          0.2  Iris-setosa\n",
      "4           5.0          3.6          1.4          0.2  Iris-setosa\n",
      "\n",
      "Last 5 rows:\n",
      "     sepal_length  sepal_width  petallength  petal_width         species\n",
      "145           6.7          3.0          5.2          2.3  Iris-virginica\n",
      "146           6.3          2.5          5.0          1.9  Iris-virginica\n",
      "147           6.5          3.0          5.2          2.0  Iris-virginica\n",
      "148           6.2          3.4          5.4          2.3  Iris-virginica\n",
      "149           5.9          3.0          5.1          1.8  Iris-virginica\n",
      "\n",
      "<class 'pandas.core.frame.DataFrame'>\n",
      "RangeIndex: 150 entries, 0 to 149\n",
      "Data columns (total 5 columns):\n",
      " #   Column        Non-Null Count  Dtype  \n",
      "---  ------        --------------  -----  \n",
      " 0   sepal_length  150 non-null    float64\n",
      " 1   sepal_width   150 non-null    float64\n",
      " 2   petallength   150 non-null    float64\n",
      " 3   petal_width   150 non-null    float64\n",
      " 4   species       150 non-null    object \n",
      "dtypes: float64(4), object(1)\n",
      "memory usage: 6.0+ KB\n",
      "None\n",
      "\n",
      "       sepal_length  sepal_width  petallength  petal_width\n",
      "count    150.000000   150.000000   150.000000   150.000000\n",
      "mean       5.843333     3.054000     3.758667     1.198667\n",
      "std        0.828066     0.433594     1.764420     0.763161\n",
      "min        4.300000     2.000000     1.000000     0.100000\n",
      "25%        5.100000     2.800000     1.600000     0.300000\n",
      "50%        5.800000     3.000000     4.350000     1.300000\n",
      "75%        6.400000     3.300000     5.100000     1.800000\n",
      "max        7.900000     4.400000     6.900000     2.500000\n",
      "\n",
      "     sepal_length         species\n",
      "0             5.1     Iris-setosa\n",
      "1             4.9     Iris-setosa\n",
      "2             4.7     Iris-setosa\n",
      "3             4.6     Iris-setosa\n",
      "4             5.0     Iris-setosa\n",
      "..            ...             ...\n",
      "145           6.7  Iris-virginica\n",
      "146           6.3  Iris-virginica\n",
      "147           6.5  Iris-virginica\n",
      "148           6.2  Iris-virginica\n",
      "149           5.9  Iris-virginica\n",
      "\n",
      "[150 rows x 2 columns]\n",
      "\n",
      "    sepal_length  sepal_width  petallength  petal_width      species\n",
      "0            5.1          3.5          1.4          0.2  Iris-setosa\n",
      "1            4.9          3.0          1.4          0.2  Iris-setosa\n",
      "2            4.7          3.2          1.3          0.2  Iris-setosa\n",
      "3            4.6          3.1          1.5          0.2  Iris-setosa\n",
      "4            5.0          3.6          1.4          0.2  Iris-setosa\n",
      "5            5.4          3.9          1.7          0.4  Iris-setosa\n",
      "6            4.6          3.4          1.4          0.3  Iris-setosa\n",
      "7            5.0          3.4          1.5          0.2  Iris-setosa\n",
      "8            4.4          2.9          1.4          0.2  Iris-setosa\n",
      "9            4.9          3.1          1.5          0.1  Iris-setosa\n",
      "10           5.4          3.7          1.5          0.2  Iris-setosa\n",
      "11           4.8          3.4          1.6          0.2  Iris-setosa\n",
      "12           4.8          3.0          1.4          0.1  Iris-setosa\n",
      "13           4.3          3.0          1.1          0.1  Iris-setosa\n",
      "14           5.8          4.0          1.2          0.2  Iris-setosa\n",
      "15           5.7          4.4          1.5          0.4  Iris-setosa\n",
      "16           5.4          3.9          1.3          0.4  Iris-setosa\n",
      "17           5.1          3.5          1.4          0.3  Iris-setosa\n",
      "18           5.7          3.8          1.7          0.3  Iris-setosa\n",
      "19           5.1          3.8          1.5          0.3  Iris-setosa\n",
      "20           5.4          3.4          1.7          0.2  Iris-setosa\n",
      "21           5.1          3.7          1.5          0.4  Iris-setosa\n",
      "22           4.6          3.6          1.0          0.2  Iris-setosa\n",
      "23           5.1          3.3          1.7          0.5  Iris-setosa\n",
      "24           4.8          3.4          1.9          0.2  Iris-setosa\n",
      "25           5.0          3.0          1.6          0.2  Iris-setosa\n",
      "26           5.0          3.4          1.6          0.4  Iris-setosa\n",
      "27           5.2          3.5          1.5          0.2  Iris-setosa\n",
      "28           5.2          3.4          1.4          0.2  Iris-setosa\n",
      "29           4.7          3.2          1.6          0.2  Iris-setosa\n",
      "30           4.8          3.1          1.6          0.2  Iris-setosa\n",
      "31           5.4          3.4          1.5          0.4  Iris-setosa\n",
      "32           5.2          4.1          1.5          0.1  Iris-setosa\n",
      "33           5.5          4.2          1.4          0.2  Iris-setosa\n",
      "34           4.9          3.1          1.5          0.1  Iris-setosa\n",
      "35           5.0          3.2          1.2          0.2  Iris-setosa\n",
      "36           5.5          3.5          1.3          0.2  Iris-setosa\n",
      "37           4.9          3.1          1.5          0.1  Iris-setosa\n",
      "38           4.4          3.0          1.3          0.2  Iris-setosa\n",
      "39           5.1          3.4          1.5          0.2  Iris-setosa\n",
      "40           5.0          3.5          1.3          0.3  Iris-setosa\n",
      "41           4.5          2.3          1.3          0.3  Iris-setosa\n",
      "42           4.4          3.2          1.3          0.2  Iris-setosa\n",
      "43           5.0          3.5          1.6          0.6  Iris-setosa\n",
      "44           5.1          3.8          1.9          0.4  Iris-setosa\n",
      "45           4.8          3.0          1.4          0.3  Iris-setosa\n",
      "46           5.1          3.8          1.6          0.2  Iris-setosa\n",
      "47           4.6          3.2          1.4          0.2  Iris-setosa\n",
      "48           5.3          3.7          1.5          0.2  Iris-setosa\n",
      "49           5.0          3.3          1.4          0.2  Iris-setosa\n",
      "\n",
      "Filtered Rows:\n",
      "    sepal_length  sepal_width  petallength  petal_width      species\n",
      "0            5.1          3.5          1.4          0.2  Iris-setosa\n",
      "5            5.4          3.9          1.7          0.4  Iris-setosa\n",
      "10           5.4          3.7          1.5          0.2  Iris-setosa\n",
      "14           5.8          4.0          1.2          0.2  Iris-setosa\n",
      "15           5.7          4.4          1.5          0.4  Iris-setosa\n",
      "16           5.4          3.9          1.3          0.4  Iris-setosa\n",
      "17           5.1          3.5          1.4          0.3  Iris-setosa\n",
      "18           5.7          3.8          1.7          0.3  Iris-setosa\n",
      "19           5.1          3.8          1.5          0.3  Iris-setosa\n",
      "20           5.4          3.4          1.7          0.2  Iris-setosa\n",
      "21           5.1          3.7          1.5          0.4  Iris-setosa\n",
      "23           5.1          3.3          1.7          0.5  Iris-setosa\n",
      "27           5.2          3.5          1.5          0.2  Iris-setosa\n",
      "28           5.2          3.4          1.4          0.2  Iris-setosa\n",
      "31           5.4          3.4          1.5          0.4  Iris-setosa\n",
      "32           5.2          4.1          1.5          0.1  Iris-setosa\n",
      "33           5.5          4.2          1.4          0.2  Iris-setosa\n",
      "36           5.5          3.5          1.3          0.2  Iris-setosa\n",
      "39           5.1          3.4          1.5          0.2  Iris-setosa\n",
      "44           5.1          3.8          1.9          0.4  Iris-setosa\n",
      "46           5.1          3.8          1.6          0.2  Iris-setosa\n",
      "48           5.3          3.7          1.5          0.2  Iris-setosa\n"
     ]
    }
   ],
   "source": [
    "# hands on\n",
    "df = pd.read_csv(\"iris.csv\")\n",
    "\n",
    "# explore structure\n",
    "print(f\"First 5 rows:\\n{df.head()}\")\n",
    "print()\n",
    "print(f\"Last 5 rows:\\n{df.tail()}\")\n",
    "print()\n",
    "print(df.info())\n",
    "print()\n",
    "print(df.describe())\n",
    "print()\n",
    "\n",
    "# select specific columns and filter rows\n",
    "print(df[[\"sepal_length\", \"species\"]])\n",
    "print()\n",
    "print(df[df[\"species\"] == \"Iris-setosa\"])\n",
    "print()\n",
    "\n",
    "filtered_rows = df[(df[\"sepal_length\"] > 5) & (df[\"species\"] == \"Iris-setosa\")]\n",
    "print(f\"Filtered Rows:\\n{filtered_rows}\")\n",
    "\n"
   ]
  },
  {
   "cell_type": "code",
   "execution_count": null,
   "metadata": {},
   "outputs": [],
   "source": []
  },
  {
   "cell_type": "code",
   "execution_count": null,
   "metadata": {},
   "outputs": [],
   "source": []
  }
 ],
 "metadata": {
  "kernelspec": {
   "display_name": "base",
   "language": "python",
   "name": "python3"
  },
  "language_info": {
   "codemirror_mode": {
    "name": "ipython",
    "version": 3
   },
   "file_extension": ".py",
   "mimetype": "text/x-python",
   "name": "python",
   "nbconvert_exporter": "python",
   "pygments_lexer": "ipython3",
   "version": "3.11.7"
  }
 },
 "nbformat": 4,
 "nbformat_minor": 2
}
